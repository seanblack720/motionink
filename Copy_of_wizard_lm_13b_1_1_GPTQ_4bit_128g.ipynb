{
  "cells": [
    {
      "cell_type": "markdown",
      "metadata": {
        "id": "view-in-github",
        "colab_type": "text"
      },
      "source": [
        "<a href=\"https://colab.research.google.com/github/seanblack720/motionink/blob/main/Copy_of_wizard_lm_13b_1_1_GPTQ_4bit_128g.ipynb\" target=\"_parent\"><img src=\"https://colab.research.google.com/assets/colab-badge.svg\" alt=\"Open In Colab\"/></a>"
      ]
    },
    {
      "cell_type": "code",
      "execution_count": null,
      "metadata": {
        "id": "VCFOzsQSHbjM"
      },
      "outputs": [],
      "source": [
        "%cd /content\n",
        "!apt-get -y install -qq aria2\n",
        "\n",
        "!git clone -b v2.5 https://github.com/camenduru/text-generation-webui\n",
        "%cd /content/text-generation-webui\n",
        "!pip install -q -r requirements.txt\n",
        "\n",
        "!aria2c --console-log-level=error -c -x 16 -s 16 -k 1M https://huggingface.co/4bit/WizardLM-13B-V1.1-GPTQ/raw/main/config.json -d /content/text-generation-webui/models/WizardLM-13B-V1.1-GPTQ -o config.json\n",
        "!aria2c --console-log-level=error -c -x 16 -s 16 -k 1M https://huggingface.co/4bit/WizardLM-13B-V1.1-GPTQ/raw/main/generation_config.json -d /content/text-generation-webui/models/WizardLM-13B-V1.1-GPTQ -o generation_config.json\n",
        "!aria2c --console-log-level=error -c -x 16 -s 16 -k 1M https://huggingface.co/4bit/WizardLM-13B-V1.1-GPTQ/raw/main/special_tokens_map.json -d /content/text-generation-webui/models/WizardLM-13B-V1.1-GPTQ -o special_tokens_map.json\n",
        "!aria2c --console-log-level=error -c -x 16 -s 16 -k 1M https://huggingface.co/4bit/WizardLM-13B-V1.1-GPTQ/resolve/main/tokenizer.model -d /content/text-generation-webui/models/WizardLM-13B-V1.1-GPTQ -o tokenizer.model\n",
        "!aria2c --console-log-level=error -c -x 16 -s 16 -k 1M https://huggingface.co/4bit/WizardLM-13B-V1.1-GPTQ/raw/main/tokenizer_config.json -d /content/text-generation-webui/models/WizardLM-13B-V1.1-GPTQ -o tokenizer_config.json\n",
        "!aria2c --console-log-level=error -c -x 16 -s 16 -k 1M https://huggingface.co/4bit/WizardLM-13B-V1.1-GPTQ/resolve/main/wizardlm-13b-v1.1-GPTQ-4bit-128g.no-act.order.safetensors -d /content/text-generation-webui/models/WizardLM-13B-V1.1-GPTQ -o wizardlm-13b-v1.1-GPTQ-4bit-128g.no-act.order.safetensors\n",
        "\n",
        "!echo \"dark_theme: true\" > /content/settings.yaml\n",
        "!echo \"chat_style: wpp\" >> /content/settings.yaml\n",
        "!echo \"mode: 'instruct'\" >> /content/settings.yaml\n",
        "!echo \"instruction_template: 'Wizard-Mega WizardLM'\" >> /content/settings.yaml\n",
        "\n",
        "%cd /content/text-generation-webui\n",
        "!python server.py --share --settings /content/settings.yaml --wbits 4 --groupsize 128 --loader AutoGPTQ --model /content/text-generation-webui/models/WizardLM-13B-V1.1-GPTQ"
      ]
    }
  ],
  "metadata": {
    "accelerator": "GPU",
    "colab": {
      "provenance": [],
      "gpuType": "T4",
      "include_colab_link": true
    },
    "kernelspec": {
      "display_name": "Python 3",
      "name": "python3"
    },
    "language_info": {
      "name": "python"
    }
  },
  "nbformat": 4,
  "nbformat_minor": 0
}